{
  "nbformat": 4,
  "nbformat_minor": 0,
  "metadata": {
    "colab": {
      "name": "QML_USOptionCall.ipynb",
      "provenance": [],
      "collapsed_sections": [],
      "authorship_tag": "ABX9TyML2X21fwJ/2TEgcv686Lsl",
      "include_colab_link": true
    },
    "kernelspec": {
      "name": "python3",
      "display_name": "Python 3"
    },
    "language_info": {
      "name": "python"
    }
  },
  "cells": [
    {
      "cell_type": "markdown",
      "metadata": {
        "id": "view-in-github",
        "colab_type": "text"
      },
      "source": [
        "<a href=\"https://colab.research.google.com/github/jieren123/QuantumFinTech/blob/main/QML_USOptionCall.ipynb\" target=\"_parent\"><img src=\"https://colab.research.google.com/assets/colab-badge.svg\" alt=\"Open In Colab\"/></a>"
      ]
    },
    {
      "cell_type": "code",
      "execution_count": null,
      "metadata": {
        "id": "6732Hhk-TtUW"
      },
      "outputs": [],
      "source": [
        "# Quantum Amplitude Estimation\n",
        "! pip install qiskit\n",
        "! pip install qiskit_finance\n",
        "import qiskit\n",
        "import matplotlib.pyplot as plt\n",
        "%matplotlib inline\n",
        "import numpy as np\n",
        "from qiskit import Aer, QuantumCircuit\n",
        "from qiskit.utils import QuantumInstance\n",
        "from qiskit.algorithms import IterativeAmplitudeEstimation, EstimationProblem\n",
        "from qiskit.circuit.library import LinearAmplitudeFunction\n",
        "from qiskit_finance.circuit.library import LogNormalDistribution"
      ]
    },
    {
      "cell_type": "code",
      "source": [
        "# number of qubits to represent the uncertainty\n",
        "num_qubits = 3\n",
        "\n",
        "# parameters for considered random distribution\n",
        "S = 150.0  # initial spot price\n",
        "vol = 0.3263  # implied volatility of 32% close-to-close 30 Days \n",
        "r = 0.021  # annual interest rate of 2.1% in 2022\n",
        "T = 30 / 365  # one month to maturity\n",
        "\n",
        "# resulting parameters for log-normal distribution\n",
        "mu = (r - 0.5 * vol**2) * T + np.log(S)\n",
        "sigma = vol * np.sqrt(T)\n",
        "mean = np.exp(mu + sigma**2 / 2)\n",
        "variance = (np.exp(sigma**2) - 1) * np.exp(2 * mu + sigma**2)\n",
        "stddev = np.sqrt(variance)\n",
        "\n",
        "# lowest and highest value considered for the spot price; in between, an equidistant discretization is considered.\n",
        "low = np.maximum(0, mean - 3 * stddev)\n",
        "high = mean + 3 * stddev\n",
        "\n",
        "print(\"low:{}\".format(low))\n",
        "print(\"high:{}\".format(high))\n",
        "\n",
        "# construct A operator for QAE for the payoff function by\n",
        "# composing the uncertainty model and the objective\n",
        "# print(\"uncertain_model input:{}\".format(uncertainty_model))\n",
        "\n",
        "uncertainty_model = LogNormalDistribution(num_qubits, mu=mu, sigma=sigma**2, bounds=(low, high))\n",
        "# plot probability distribution\n",
        "plt.figure(figsize = (15, 6))\n",
        "x = uncertainty_model.values\n",
        "y = uncertainty_model.probabilities\n",
        "# plt.bar(x, y, width=0.2)\n",
        "plt.bar(x, y, width = 1.5)\n",
        "plt.xticks(x, size=15, rotation=90)\n",
        "plt.yticks(size=15)\n",
        "plt.grid()\n",
        "plt.xlabel(\"Spot Price at Maturity $S_T$ (\\$) within 30-day\", size=15)\n",
        "plt.ylabel(\"Probability ($\\%$)\", size=15)\n",
        "plt.show()"
      ],
      "metadata": {
        "colab": {
          "base_uri": "https://localhost:8080/",
          "height": 475
        },
        "id": "3a11jDGdf8DG",
        "outputId": "f96cddb3-3a01-4265-d67b-08c674cbd45f"
      },
      "execution_count": null,
      "outputs": [
        {
          "output_type": "stream",
          "name": "stdout",
          "text": [
            "low:107.99769476156862\n",
            "high:192.52056059041323\n"
          ]
        },
        {
          "output_type": "display_data",
          "data": {
            "text/plain": [
              "<Figure size 1080x432 with 1 Axes>"
            ],
            "image/png": "[encoded data removed]"
          },
          "metadata": {
            "needs_background": "light"
          }
        }
      ]
    },
    {
      "cell_type": "code",
      "source": [
        "# set the strike price (should be within the low and the high value of the uncertainty)\n",
        "strike_price = 140\n",
        "\n",
        "# set the approximation scaling for the payoff function\n",
        "c_approx = 0.25\n",
        "\n",
        "# setup piecewise linear objective fcuntion\n",
        "breakpoints = [low, strike_price]\n",
        "slopes = [0, 1]\n",
        "offsets = [0, 0]\n",
        "f_min = 0\n",
        "f_max = high - strike_price\n",
        "us_call_objective = LinearAmplitudeFunction(\n",
        "    num_qubits,\n",
        "    slopes,\n",
        "    offsets,\n",
        "    domain=(low, high),\n",
        "    image=(f_min, f_max),\n",
        "    breakpoints=breakpoints,\n",
        "    rescaling_factor=c_approx,\n",
        ")\n",
        "\n",
        "# construct A operator for QAE for the payoff function by\n",
        "# composing the uncertainty model and the objective\n",
        "num_qubits_ = us_call_objective.num_qubits\n",
        "us_call = QuantumCircuit(num_qubits_)\n",
        "us_call.append(uncertainty_model, range(num_qubits))\n",
        "us_call.append(us_call_objective, range(num_qubits_))\n",
        "\n",
        "# draw the circuit\n",
        "us_call.draw()"
      ],
      "metadata": {
        "colab": {
          "base_uri": "https://localhost:8080/",
          "height": 248
        },
        "id": "Re6i8Y3egGVG",
        "outputId": "2db81e4a-4ba5-4102-8597-fc3ba4205e31"
      },
      "execution_count": null,
      "outputs": [
        {
          "output_type": "execute_result",
          "data": {
            "text/plain": [
              "     ┌───────┐┌────┐\n",
              "q_0: ┤0      ├┤0   ├\n",
              "     │       ││    │\n",
              "q_1: ┤1 P(X) ├┤1   ├\n",
              "     │       ││    │\n",
              "q_2: ┤2      ├┤2   ├\n",
              "     └───────┘│    │\n",
              "q_3: ─────────┤3 F ├\n",
              "              │    │\n",
              "q_4: ─────────┤4   ├\n",
              "              │    │\n",
              "q_5: ─────────┤5   ├\n",
              "              │    │\n",
              "q_6: ─────────┤6   ├\n",
              "              └────┘"
            ],
            "text/html": [
              "<pre style=\"word-wrap: normal;white-space: pre;background: #fff0;line-height: 1.1;font-family: &quot;Courier New&quot;,Courier,monospace\">     ┌───────┐┌────┐\n",
              "q_0: ┤0      ├┤0   ├\n",
              "     │       ││    │\n",
              "q_1: ┤1 P(X) ├┤1   ├\n",
              "     │       ││    │\n",
              "q_2: ┤2      ├┤2   ├\n",
              "     └───────┘│    │\n",
              "q_3: ─────────┤3 F ├\n",
              "              │    │\n",
              "q_4: ─────────┤4   ├\n",
              "              │    │\n",
              "q_5: ─────────┤5   ├\n",
              "              │    │\n",
              "q_6: ─────────┤6   ├\n",
              "              └────┘</pre>"
            ]
          },
          "metadata": {},
          "execution_count": 5
        }
      ]
    },
    {
      "cell_type": "code",
      "source": [
        "# plot exact payoff function (evaluated on the grid of the uncertainty model)\n",
        "x = uncertainty_model.values\n",
        "y = np.maximum(0, x - strike_price)\n",
        "plt.figure(figsize = (15, 6))\n",
        "plt.plot(x, y, \"ro-\")\n",
        "plt.grid()\n",
        "plt.title(\"Payoff Function\", size=15)\n",
        "plt.xlabel(\"Spot Price\", size=15)\n",
        "plt.ylabel(\"Payoff\", size=15)\n",
        "plt.xticks(x, size=15, rotation=90)\n",
        "plt.yticks(size=15)\n",
        "plt.show()"
      ],
      "metadata": {
        "colab": {
          "base_uri": "https://localhost:8080/",
          "height": 454
        },
        "id": "W07YmuzmgKC_",
        "outputId": "2c1c6ded-9993-49d6-d5df-2cc2dba8aa42"
      },
      "execution_count": null,
      "outputs": [
        {
          "output_type": "display_data",
          "data": {
            "text/plain": [
              "<Figure size 1080x432 with 1 Axes>"
            ],
            "image/png": "[encoded data removed]"
          },
          "metadata": {
            "needs_background": "light"
          }
        }
      ]
    },
    {
      "cell_type": "code",
      "source": [
        "# evaluate exact expected value (normalized to the [0, 1] interval)\n",
        "exact_value = np.dot(uncertainty_model.probabilities, y)\n",
        "exact_delta = sum(uncertainty_model.probabilities[x >= strike_price])\n",
        "print(\"exact expected value:\\t%.4f\" % exact_value)\n",
        "print(\"exact delta value:   \\t%.4f\" % exact_delta)"
      ],
      "metadata": {
        "colab": {
          "base_uri": "https://localhost:8080/"
        },
        "id": "K0BBoJWtgyf6",
        "outputId": "cd57c35d-e720-4e33-a040-d01f85f712f8"
      },
      "execution_count": null,
      "outputs": [
        {
          "output_type": "stream",
          "name": "stdout",
          "text": [
            "exact expected value:\t12.0486\n",
            "exact delta value:   \t0.8099\n"
          ]
        }
      ]
    },
    {
      "cell_type": "code",
      "source": [
        "# Evaluate Expected Payoff\n",
        "us_call.draw()\n",
        "# set target precision and confidence level\n",
        "epsilon = 0.01\n",
        "alpha = 0.05\n",
        "\n",
        "qi = QuantumInstance(Aer.get_backend(\"aer_simulator\"), shots=100)\n",
        "problem = EstimationProblem(\n",
        "    state_preparation=us_call,\n",
        "    objective_qubits=[3],\n",
        "    post_processing=us_call_objective.post_processing,\n",
        ")\n",
        "# construct amplitude estimation\n",
        "ae = IterativeAmplitudeEstimation(epsilon, alpha=alpha, quantum_instance=qi)\n",
        "\n",
        "result = ae.estimate(problem)\n",
        "\n",
        "conf_int = np.array(result.confidence_interval_processed)\n",
        "print(\"Exact value:        \\t%.4f\" % exact_value)\n",
        "print(\"Estimated value:    \\t%.4f\" % (result.estimation_processed))\n",
        "print(\"Confidence interval:\\t[%.4f, %.4f]\" % tuple(conf_int))"
      ],
      "metadata": {
        "colab": {
          "base_uri": "https://localhost:8080/"
        },
        "id": "eMTOmM3chEAg",
        "outputId": "8c65ee54-79a3-4237-ba54-c096620abdf7"
      },
      "execution_count": null,
      "outputs": [
        {
          "output_type": "stream",
          "name": "stdout",
          "text": [
            "Exact value:        \t12.0486\n",
            "Estimated value:    \t12.0157\n",
            "Confidence interval:\t[10.8110, 13.2204]\n"
          ]
        }
      ]
    }
  ]
}